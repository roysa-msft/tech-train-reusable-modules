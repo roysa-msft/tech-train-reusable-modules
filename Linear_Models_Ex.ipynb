{
  "cells": [
    {
      "cell_type": "markdown",
      "metadata": {
        "id": "view-in-github",
        "colab_type": "text"
      },
      "source": [
        "<a href=\"https://colab.research.google.com/github/roysa-msft/tech-train-reusable-modules/blob/main/Linear_Models_Ex.ipynb\" target=\"_parent\"><img src=\"https://colab.research.google.com/assets/colab-badge.svg\" alt=\"Open In Colab\"/></a>"
      ]
    },
    {
      "cell_type": "code",
      "execution_count": null,
      "id": "068d9e2f",
      "metadata": {
        "ExecuteTime": {
          "end_time": "2023-11-05T12:42:22.421151Z",
          "start_time": "2023-11-05T12:42:21.026585Z"
        },
        "id": "068d9e2f"
      },
      "outputs": [],
      "source": [
        "import pandas as pd\n",
        "import numpy as np\n",
        "from sklearn.linear_model import LogisticRegression\n",
        "from sklearn.metrics import roc_auc_score, roc_curve, precision_recall_curve\n",
        "import  matplotlib.pyplot as plt\n",
        "\n",
        "%matplotlib inline"
      ]
    },
    {
      "cell_type": "markdown",
      "id": "a465d6ae",
      "metadata": {
        "id": "a465d6ae"
      },
      "source": [
        "# Introduction\n",
        "\n",
        "For this exercise we will use an open dataset from Kaggle, which contains results from a Customer Satisfaction survey from a specific airline.\n",
        "\n",
        "The dataset itself, as well its description, is available here: https://www.kaggle.com/datasets/yakhyojon/customer-satisfaction-in-airline\n",
        "\n",
        "Today we will train a Logistic Regression model (from the package `sklearn`) for a binary classification task. The task is to predict customer's satisfaction (1=satisfied, 0=not_satisfied) based on other features available in the table.\n",
        "\n",
        "We begin with the following elementary steps:\n",
        "\n",
        "1. Download the dataset and keep it in a place accessible for your notebook.\n",
        "1. Load it into memory with `pd.read_csv()`. Refer to the public Pandas API for help.\n",
        "1. Examine basic information about the dataframe: its size, number of column (and their names). Are there Nones (how many)?"
      ]
    },
    {
      "cell_type": "code",
      "execution_count": null,
      "id": "ba27f764",
      "metadata": {
        "ExecuteTime": {
          "end_time": "2023-11-05T12:42:22.625829Z",
          "start_time": "2023-11-05T12:42:22.424154Z"
        },
        "id": "ba27f764"
      },
      "outputs": [],
      "source": [
        "df = pd.read_csv(r\"Invistico_Airline.csv\")"
      ]
    },
    {
      "cell_type": "code",
      "execution_count": null,
      "id": "bddcfba4",
      "metadata": {
        "ExecuteTime": {
          "end_time": "2023-11-05T12:42:22.689022Z",
          "start_time": "2023-11-05T12:42:22.627369Z"
        },
        "id": "bddcfba4",
        "outputId": "82c63b09-e9ee-402a-ce8d-04abe97d0336",
        "colab": {
          "base_uri": "https://localhost:8080/"
        }
      },
      "outputs": [
        {
          "output_type": "execute_result",
          "data": {
            "text/plain": [
              "Index(['satisfaction', 'Customer Type', 'Age', 'Type of Travel', 'Class',\n",
              "       'Flight Distance', 'Seat comfort', 'Departure/Arrival time convenient',\n",
              "       'Food and drink', 'Gate location', 'Inflight wifi service',\n",
              "       'Inflight entertainment', 'Online support', 'Ease of Online booking',\n",
              "       'On-board service', 'Leg room service', 'Baggage handling',\n",
              "       'Checkin service', 'Cleanliness', 'Online boarding',\n",
              "       'Departure Delay in Minutes', 'Arrival Delay in Minutes'],\n",
              "      dtype='object')"
            ]
          },
          "metadata": {},
          "execution_count": 6
        }
      ],
      "source": [
        "df.columns"
      ]
    },
    {
      "cell_type": "code",
      "execution_count": null,
      "id": "077e5213",
      "metadata": {
        "ExecuteTime": {
          "end_time": "2023-11-05T12:42:22.705708Z",
          "start_time": "2023-11-05T12:42:22.691028Z"
        },
        "id": "077e5213",
        "outputId": "4a1adc13-1513-47f1-f4e8-73cf45ce9fd4"
      },
      "outputs": [
        {
          "data": {
            "text/html": [
              "<div>\n",
              "<style scoped>\n",
              "    .dataframe tbody tr th:only-of-type {\n",
              "        vertical-align: middle;\n",
              "    }\n",
              "\n",
              "    .dataframe tbody tr th {\n",
              "        vertical-align: top;\n",
              "    }\n",
              "\n",
              "    .dataframe thead th {\n",
              "        text-align: right;\n",
              "    }\n",
              "</style>\n",
              "<table border=\"1\" class=\"dataframe\">\n",
              "  <thead>\n",
              "    <tr style=\"text-align: right;\">\n",
              "      <th></th>\n",
              "      <th>0</th>\n",
              "      <th>1</th>\n",
              "      <th>2</th>\n",
              "    </tr>\n",
              "  </thead>\n",
              "  <tbody>\n",
              "    <tr>\n",
              "      <th>satisfaction</th>\n",
              "      <td>satisfied</td>\n",
              "      <td>satisfied</td>\n",
              "      <td>satisfied</td>\n",
              "    </tr>\n",
              "    <tr>\n",
              "      <th>Customer Type</th>\n",
              "      <td>Loyal Customer</td>\n",
              "      <td>Loyal Customer</td>\n",
              "      <td>Loyal Customer</td>\n",
              "    </tr>\n",
              "    <tr>\n",
              "      <th>Age</th>\n",
              "      <td>65</td>\n",
              "      <td>47</td>\n",
              "      <td>15</td>\n",
              "    </tr>\n",
              "    <tr>\n",
              "      <th>Type of Travel</th>\n",
              "      <td>Personal Travel</td>\n",
              "      <td>Personal Travel</td>\n",
              "      <td>Personal Travel</td>\n",
              "    </tr>\n",
              "    <tr>\n",
              "      <th>Class</th>\n",
              "      <td>Eco</td>\n",
              "      <td>Business</td>\n",
              "      <td>Eco</td>\n",
              "    </tr>\n",
              "    <tr>\n",
              "      <th>Flight Distance</th>\n",
              "      <td>265</td>\n",
              "      <td>2464</td>\n",
              "      <td>2138</td>\n",
              "    </tr>\n",
              "    <tr>\n",
              "      <th>Seat comfort</th>\n",
              "      <td>0</td>\n",
              "      <td>0</td>\n",
              "      <td>0</td>\n",
              "    </tr>\n",
              "    <tr>\n",
              "      <th>Departure/Arrival time convenient</th>\n",
              "      <td>0</td>\n",
              "      <td>0</td>\n",
              "      <td>0</td>\n",
              "    </tr>\n",
              "    <tr>\n",
              "      <th>Food and drink</th>\n",
              "      <td>0</td>\n",
              "      <td>0</td>\n",
              "      <td>0</td>\n",
              "    </tr>\n",
              "    <tr>\n",
              "      <th>Gate location</th>\n",
              "      <td>2</td>\n",
              "      <td>3</td>\n",
              "      <td>3</td>\n",
              "    </tr>\n",
              "    <tr>\n",
              "      <th>Inflight wifi service</th>\n",
              "      <td>2</td>\n",
              "      <td>0</td>\n",
              "      <td>2</td>\n",
              "    </tr>\n",
              "    <tr>\n",
              "      <th>Inflight entertainment</th>\n",
              "      <td>4</td>\n",
              "      <td>2</td>\n",
              "      <td>0</td>\n",
              "    </tr>\n",
              "    <tr>\n",
              "      <th>Online support</th>\n",
              "      <td>2</td>\n",
              "      <td>2</td>\n",
              "      <td>2</td>\n",
              "    </tr>\n",
              "    <tr>\n",
              "      <th>Ease of Online booking</th>\n",
              "      <td>3</td>\n",
              "      <td>3</td>\n",
              "      <td>2</td>\n",
              "    </tr>\n",
              "    <tr>\n",
              "      <th>On-board service</th>\n",
              "      <td>3</td>\n",
              "      <td>4</td>\n",
              "      <td>3</td>\n",
              "    </tr>\n",
              "    <tr>\n",
              "      <th>Leg room service</th>\n",
              "      <td>0</td>\n",
              "      <td>4</td>\n",
              "      <td>3</td>\n",
              "    </tr>\n",
              "    <tr>\n",
              "      <th>Baggage handling</th>\n",
              "      <td>3</td>\n",
              "      <td>4</td>\n",
              "      <td>4</td>\n",
              "    </tr>\n",
              "    <tr>\n",
              "      <th>Checkin service</th>\n",
              "      <td>5</td>\n",
              "      <td>2</td>\n",
              "      <td>4</td>\n",
              "    </tr>\n",
              "    <tr>\n",
              "      <th>Cleanliness</th>\n",
              "      <td>3</td>\n",
              "      <td>3</td>\n",
              "      <td>4</td>\n",
              "    </tr>\n",
              "    <tr>\n",
              "      <th>Online boarding</th>\n",
              "      <td>2</td>\n",
              "      <td>2</td>\n",
              "      <td>2</td>\n",
              "    </tr>\n",
              "    <tr>\n",
              "      <th>Departure Delay in Minutes</th>\n",
              "      <td>0</td>\n",
              "      <td>310</td>\n",
              "      <td>0</td>\n",
              "    </tr>\n",
              "    <tr>\n",
              "      <th>Arrival Delay in Minutes</th>\n",
              "      <td>0.0</td>\n",
              "      <td>305.0</td>\n",
              "      <td>0.0</td>\n",
              "    </tr>\n",
              "  </tbody>\n",
              "</table>\n",
              "</div>"
            ],
            "text/plain": [
              "                                                 0                1  \\\n",
              "satisfaction                             satisfied        satisfied   \n",
              "Customer Type                       Loyal Customer   Loyal Customer   \n",
              "Age                                             65               47   \n",
              "Type of Travel                     Personal Travel  Personal Travel   \n",
              "Class                                          Eco         Business   \n",
              "Flight Distance                                265             2464   \n",
              "Seat comfort                                     0                0   \n",
              "Departure/Arrival time convenient                0                0   \n",
              "Food and drink                                   0                0   \n",
              "Gate location                                    2                3   \n",
              "Inflight wifi service                            2                0   \n",
              "Inflight entertainment                           4                2   \n",
              "Online support                                   2                2   \n",
              "Ease of Online booking                           3                3   \n",
              "On-board service                                 3                4   \n",
              "Leg room service                                 0                4   \n",
              "Baggage handling                                 3                4   \n",
              "Checkin service                                  5                2   \n",
              "Cleanliness                                      3                3   \n",
              "Online boarding                                  2                2   \n",
              "Departure Delay in Minutes                       0              310   \n",
              "Arrival Delay in Minutes                       0.0            305.0   \n",
              "\n",
              "                                                 2  \n",
              "satisfaction                             satisfied  \n",
              "Customer Type                       Loyal Customer  \n",
              "Age                                             15  \n",
              "Type of Travel                     Personal Travel  \n",
              "Class                                          Eco  \n",
              "Flight Distance                               2138  \n",
              "Seat comfort                                     0  \n",
              "Departure/Arrival time convenient                0  \n",
              "Food and drink                                   0  \n",
              "Gate location                                    3  \n",
              "Inflight wifi service                            2  \n",
              "Inflight entertainment                           0  \n",
              "Online support                                   2  \n",
              "Ease of Online booking                           2  \n",
              "On-board service                                 3  \n",
              "Leg room service                                 3  \n",
              "Baggage handling                                 4  \n",
              "Checkin service                                  4  \n",
              "Cleanliness                                      4  \n",
              "Online boarding                                  2  \n",
              "Departure Delay in Minutes                       0  \n",
              "Arrival Delay in Minutes                       0.0  "
            ]
          },
          "execution_count": 4,
          "metadata": {},
          "output_type": "execute_result"
        }
      ],
      "source": [
        "df.head(3).T"
      ]
    },
    {
      "cell_type": "markdown",
      "id": "a2512ff3",
      "metadata": {
        "id": "a2512ff3"
      },
      "source": [
        "# Preprocessing\n",
        "We need to encode non-numerical variables (i.e. columns) into numbers. One popular variable type is the categorical variable: a variable with a fixed number of possible values (in programming this is usually called an Enum).\n",
        "\n",
        "There are various ways to encode such variables, the one which we will use is boolean-expansion. Formally, suppose the Enum has $k$ values $\\{v_1,...,v_k\\}$, and its column name is `my_enum` replace that column with $k$ new columns. For each row of `my_enum`: if the value was $v_i$ put $1$ in the $i$-th column and zero on the others.\n",
        "\n",
        "In addition, you need to account for missing values (\"imputation\"). There are many possible ways, and there is no \"correct\" answer here. If the data is numerical you can fill it with its mean, default value (domain specific) or even train a regression model using other columns to predict that column (and uses the predictions to fill empty cells of that column).\n",
        "\n",
        "Make sure to preprocess the dataset to contains only numerical values. In addition, encode the prediction target (i.e. the `satisfaction` column) to be $1$ for `satisfied` and $0$ otherwise.\n",
        "\n",
        "### The goal of this step\n",
        "\n",
        "Ultimately, we aim to end this section with two global python variables:\n",
        "* `features` - a pandas DataFrame which contains all the feature columns (after the processing). Note that the label column should NOT be in this dataframe\n",
        "* `labels` - a pandas Series of type `int` which contains the corresponding labels of rows from the `features` dataframe"
      ]
    },
    {
      "cell_type": "code",
      "execution_count": null,
      "id": "85f40ea7",
      "metadata": {
        "ExecuteTime": {
          "end_time": "2023-11-05T13:06:27.244766Z",
          "start_time": "2023-11-05T13:06:27.159718Z"
        },
        "id": "85f40ea7"
      },
      "outputs": [],
      "source": [
        "features = (\n",
        "    # CODE HERE\n",
        ")\n",
        "labels = (\n",
        "    # CODE HERE\n",
        ").astype(int)"
      ]
    },
    {
      "cell_type": "code",
      "execution_count": null,
      "id": "76efa3d8",
      "metadata": {
        "ExecuteTime": {
          "end_time": "2023-11-05T12:42:22.801968Z",
          "start_time": "2023-11-05T12:42:22.787426Z"
        },
        "id": "76efa3d8",
        "outputId": "c1964545-4088-442b-a606-0e4e36f30791"
      },
      "outputs": [
        {
          "data": {
            "text/html": [
              "<div>\n",
              "<style scoped>\n",
              "    .dataframe tbody tr th:only-of-type {\n",
              "        vertical-align: middle;\n",
              "    }\n",
              "\n",
              "    .dataframe tbody tr th {\n",
              "        vertical-align: top;\n",
              "    }\n",
              "\n",
              "    .dataframe thead th {\n",
              "        text-align: right;\n",
              "    }\n",
              "</style>\n",
              "<table border=\"1\" class=\"dataframe\">\n",
              "  <thead>\n",
              "    <tr style=\"text-align: right;\">\n",
              "      <th></th>\n",
              "      <th>0</th>\n",
              "      <th>1</th>\n",
              "      <th>2</th>\n",
              "    </tr>\n",
              "  </thead>\n",
              "  <tbody>\n",
              "    <tr>\n",
              "      <th>Age</th>\n",
              "      <td>65.0</td>\n",
              "      <td>47.0</td>\n",
              "      <td>15.0</td>\n",
              "    </tr>\n",
              "    <tr>\n",
              "      <th>Flight Distance</th>\n",
              "      <td>265.0</td>\n",
              "      <td>2464.0</td>\n",
              "      <td>2138.0</td>\n",
              "    </tr>\n",
              "    <tr>\n",
              "      <th>Seat comfort</th>\n",
              "      <td>0.0</td>\n",
              "      <td>0.0</td>\n",
              "      <td>0.0</td>\n",
              "    </tr>\n",
              "    <tr>\n",
              "      <th>Departure/Arrival time convenient</th>\n",
              "      <td>0.0</td>\n",
              "      <td>0.0</td>\n",
              "      <td>0.0</td>\n",
              "    </tr>\n",
              "    <tr>\n",
              "      <th>Food and drink</th>\n",
              "      <td>0.0</td>\n",
              "      <td>0.0</td>\n",
              "      <td>0.0</td>\n",
              "    </tr>\n",
              "    <tr>\n",
              "      <th>Gate location</th>\n",
              "      <td>2.0</td>\n",
              "      <td>3.0</td>\n",
              "      <td>3.0</td>\n",
              "    </tr>\n",
              "    <tr>\n",
              "      <th>Inflight wifi service</th>\n",
              "      <td>2.0</td>\n",
              "      <td>0.0</td>\n",
              "      <td>2.0</td>\n",
              "    </tr>\n",
              "    <tr>\n",
              "      <th>Inflight entertainment</th>\n",
              "      <td>4.0</td>\n",
              "      <td>2.0</td>\n",
              "      <td>0.0</td>\n",
              "    </tr>\n",
              "    <tr>\n",
              "      <th>Online support</th>\n",
              "      <td>2.0</td>\n",
              "      <td>2.0</td>\n",
              "      <td>2.0</td>\n",
              "    </tr>\n",
              "    <tr>\n",
              "      <th>Ease of Online booking</th>\n",
              "      <td>3.0</td>\n",
              "      <td>3.0</td>\n",
              "      <td>2.0</td>\n",
              "    </tr>\n",
              "    <tr>\n",
              "      <th>On-board service</th>\n",
              "      <td>3.0</td>\n",
              "      <td>4.0</td>\n",
              "      <td>3.0</td>\n",
              "    </tr>\n",
              "    <tr>\n",
              "      <th>Leg room service</th>\n",
              "      <td>0.0</td>\n",
              "      <td>4.0</td>\n",
              "      <td>3.0</td>\n",
              "    </tr>\n",
              "    <tr>\n",
              "      <th>Baggage handling</th>\n",
              "      <td>3.0</td>\n",
              "      <td>4.0</td>\n",
              "      <td>4.0</td>\n",
              "    </tr>\n",
              "    <tr>\n",
              "      <th>Checkin service</th>\n",
              "      <td>5.0</td>\n",
              "      <td>2.0</td>\n",
              "      <td>4.0</td>\n",
              "    </tr>\n",
              "    <tr>\n",
              "      <th>Cleanliness</th>\n",
              "      <td>3.0</td>\n",
              "      <td>3.0</td>\n",
              "      <td>4.0</td>\n",
              "    </tr>\n",
              "    <tr>\n",
              "      <th>Online boarding</th>\n",
              "      <td>2.0</td>\n",
              "      <td>2.0</td>\n",
              "      <td>2.0</td>\n",
              "    </tr>\n",
              "    <tr>\n",
              "      <th>Departure Delay in Minutes</th>\n",
              "      <td>0.0</td>\n",
              "      <td>310.0</td>\n",
              "      <td>0.0</td>\n",
              "    </tr>\n",
              "    <tr>\n",
              "      <th>Arrival Delay in Minutes</th>\n",
              "      <td>0.0</td>\n",
              "      <td>305.0</td>\n",
              "      <td>0.0</td>\n",
              "    </tr>\n",
              "    <tr>\n",
              "      <th>Customer Type_Loyal Customer</th>\n",
              "      <td>1.0</td>\n",
              "      <td>1.0</td>\n",
              "      <td>1.0</td>\n",
              "    </tr>\n",
              "    <tr>\n",
              "      <th>Customer Type_disloyal Customer</th>\n",
              "      <td>0.0</td>\n",
              "      <td>0.0</td>\n",
              "      <td>0.0</td>\n",
              "    </tr>\n",
              "    <tr>\n",
              "      <th>Type of Travel_Business travel</th>\n",
              "      <td>0.0</td>\n",
              "      <td>0.0</td>\n",
              "      <td>0.0</td>\n",
              "    </tr>\n",
              "    <tr>\n",
              "      <th>Type of Travel_Personal Travel</th>\n",
              "      <td>1.0</td>\n",
              "      <td>1.0</td>\n",
              "      <td>1.0</td>\n",
              "    </tr>\n",
              "    <tr>\n",
              "      <th>Class_Business</th>\n",
              "      <td>0.0</td>\n",
              "      <td>1.0</td>\n",
              "      <td>0.0</td>\n",
              "    </tr>\n",
              "    <tr>\n",
              "      <th>Class_Eco</th>\n",
              "      <td>1.0</td>\n",
              "      <td>0.0</td>\n",
              "      <td>1.0</td>\n",
              "    </tr>\n",
              "    <tr>\n",
              "      <th>Class_Eco Plus</th>\n",
              "      <td>0.0</td>\n",
              "      <td>0.0</td>\n",
              "      <td>0.0</td>\n",
              "    </tr>\n",
              "  </tbody>\n",
              "</table>\n",
              "</div>"
            ],
            "text/plain": [
              "                                       0       1       2\n",
              "Age                                 65.0    47.0    15.0\n",
              "Flight Distance                    265.0  2464.0  2138.0\n",
              "Seat comfort                         0.0     0.0     0.0\n",
              "Departure/Arrival time convenient    0.0     0.0     0.0\n",
              "Food and drink                       0.0     0.0     0.0\n",
              "Gate location                        2.0     3.0     3.0\n",
              "Inflight wifi service                2.0     0.0     2.0\n",
              "Inflight entertainment               4.0     2.0     0.0\n",
              "Online support                       2.0     2.0     2.0\n",
              "Ease of Online booking               3.0     3.0     2.0\n",
              "On-board service                     3.0     4.0     3.0\n",
              "Leg room service                     0.0     4.0     3.0\n",
              "Baggage handling                     3.0     4.0     4.0\n",
              "Checkin service                      5.0     2.0     4.0\n",
              "Cleanliness                          3.0     3.0     4.0\n",
              "Online boarding                      2.0     2.0     2.0\n",
              "Departure Delay in Minutes           0.0   310.0     0.0\n",
              "Arrival Delay in Minutes             0.0   305.0     0.0\n",
              "Customer Type_Loyal Customer         1.0     1.0     1.0\n",
              "Customer Type_disloyal Customer      0.0     0.0     0.0\n",
              "Type of Travel_Business travel       0.0     0.0     0.0\n",
              "Type of Travel_Personal Travel       1.0     1.0     1.0\n",
              "Class_Business                       0.0     1.0     0.0\n",
              "Class_Eco                            1.0     0.0     1.0\n",
              "Class_Eco Plus                       0.0     0.0     0.0"
            ]
          },
          "execution_count": 6,
          "metadata": {},
          "output_type": "execute_result"
        }
      ],
      "source": [
        "# I keep here an example of how the output of `features.head(3).T` should looks like"
      ]
    },
    {
      "cell_type": "markdown",
      "id": "01ceeea2",
      "metadata": {
        "id": "01ceeea2"
      },
      "source": [
        "Here we split the dataset into train and test, via a random split, using the proportions of 66% of the data for training.\n",
        "\n",
        "Do not change this section, just run it as it is (safe to run multiple times)."
      ]
    },
    {
      "cell_type": "code",
      "execution_count": null,
      "id": "7525c9a2",
      "metadata": {
        "ExecuteTime": {
          "end_time": "2023-11-05T12:42:22.817579Z",
          "start_time": "2023-11-05T12:42:22.802963Z"
        },
        "id": "7525c9a2"
      },
      "outputs": [],
      "source": [
        "np.random.seed(1234)\n",
        "is_train_mask = np.random.permutation(len(features)) < (len(df) * 0.66)"
      ]
    },
    {
      "cell_type": "markdown",
      "id": "b40404a2",
      "metadata": {
        "id": "b40404a2"
      },
      "source": [
        "# Fit a Logistic Regression model\n",
        "\n",
        "As most of the model inside the `sklearn` package, we instantiate a class of specific ML algorithm (e.g. `model=LogisticRegression(**hyper_params)`) then we call its `model.fit(features, labels)` method to train it. Then we generate predictions using the trained model by calling `model.predict_proba(features)`. Note that `features` is a table (e.g. pandas-DataFrame) where each row is a sample of the data and each column is a specific variable (a.k.a \"feature\"). `lables` is a vector (e.g. pandas-Series) of zero-one, indicating the class of each row in `features`.\n",
        "\n",
        "For the next step, you are requested to instantiate a `LogisticRegression` instance from `sklearn.linear_model`, and configure its parameters. The parameters of interest are:\n",
        "* `penalty`: string indicating the type of regularization to use: `elasticnet` `l1` `l2` `none`\n",
        "* `l1_raio`: mix between $\\ell_1$ and $\\ell_2$ regularizations, ignored when not relevant (depends on `penalty`)\n",
        "* `C`: regularization coefficient, use number close to $1$ for strong regularization, close to $0$ for low or none regularization.\n",
        "* `solver`: different algorithm have different advantages. Unfortunately, not all of them works with all type of regularizations. One way is to fix that parameter on `\"saga\"` algorithm which supports both `l1` and `l2` and their mix. Another way is to use specific algorithm to the penalty we use, for example `\"lbfgs\"` for `l2` and `\"liblinear\"` for `l1`. You are encourage to try and see the differences.\n",
        "\n",
        "For this exercise, fix the following values for the Logistic Regression: `max_iter=200` and `n_jobs=-1`.\n",
        "\n",
        "You can read more about the parameters and API of that class in: https://scikit-learn.org/stable/modules/generated/sklearn.linear_model.LogisticRegression.html\n",
        "\n",
        "\n",
        "Note that `model.predict_proba()` returns a matrix of shape `[len(data), 2]`. Where the first column holding the probability for class `0`, while the second columns is for class `1`. Since we are in the binary case, we are interested in cases of predicting \"satisfied\", therefore use the following:  \n",
        "`predictions = model.predict_proba(dataset)[:, 1]`\n",
        "\n",
        "Pandas Tip:\n",
        "You can use `features.loc[is_train_mask]` and `labels.loc[is_train_mask])` to refer to the **Train** set, and `features.loc[~is_train_mask]` and `labels.loc[~is_train_mask])` for the **Test** set."
      ]
    },
    {
      "cell_type": "code",
      "execution_count": null,
      "id": "1b079f90",
      "metadata": {
        "ExecuteTime": {
          "end_time": "2023-11-05T12:42:22.833383Z",
          "start_time": "2023-11-05T12:42:22.818580Z"
        },
        "id": "1b079f90",
        "outputId": "a73a8f7c-763c-45d2-fa44-a34e35e86c87"
      },
      "outputs": [
        {
          "data": {
            "text/plain": [
              "(129880, 25)"
            ]
          },
          "execution_count": 8,
          "metadata": {},
          "output_type": "execute_result"
        }
      ],
      "source": [
        "features.shape"
      ]
    },
    {
      "cell_type": "code",
      "execution_count": null,
      "id": "23768182",
      "metadata": {
        "ExecuteTime": {
          "end_time": "2023-11-05T12:42:32.256005Z",
          "start_time": "2023-11-05T12:42:22.834383Z"
        },
        "id": "23768182",
        "outputId": "57c51886-1e16-4dc4-e9fc-d38a498a2d8c"
      },
      "outputs": [
        {
          "name": "stderr",
          "output_type": "stream",
          "text": [
            "C:\\ProgramData\\Anaconda3\\lib\\site-packages\\sklearn\\linear_model\\_logistic.py:1317: UserWarning: l1_ratio parameter is only used when penalty is 'elasticnet'. Got (penalty=l2)\n",
            "  warnings.warn(\"l1_ratio parameter is only used when penalty is \"\n"
          ]
        }
      ],
      "source": [
        "# create a model. call its \"fit(...)\" method, and then generate predictions using `preds = model.predict_proba(features)[:, 1]`\n",
        "\n",
        "# CODE HERE"
      ]
    },
    {
      "cell_type": "markdown",
      "id": "1202d7ab",
      "metadata": {
        "id": "1202d7ab"
      },
      "source": [
        "# Inspect the quality of the model\n",
        "\n",
        "We want the model to be able to predict the training data with high quality, and at the same time, we want the quality over the train dataset to be as close as possible to the quality over the test dataset.\n",
        "\n",
        "Use `plot_stats_and_get_auc()` which is implemented below, to display the **AUC curve** of your model on a given train\\test set. The function also returns the AUC score as a float. In the next paragraph we describe what AUC is. You will use the plot and the numerical score to evaluate your model, once over the training-set and once over the test-set.\n",
        "\n",
        "The goal is to have both scores close to each other. You'll probably have to adjust the learning parameters of the algorithm and retrain the model to achieve this.\n",
        "\n",
        "_Side question - what is the implication of a large gap between the test and train scores?_\n",
        "\n",
        "#### What's AUC?\n",
        "\n",
        "In the class we discussed the confusion matrix and few numerical statistics which can be computed out of it, in order to estimate binary classification. All these metrics applied over binary predictions (e.g. either $0$ or $1$), however, the model outputs **probabilities** (i.e. floats in between). We said in class that usually we apply a rounding by some threshold $\\theta$ in order to convert probability to a zero-one prediction.\n",
        "\n",
        "This exercise we will use a different metric:\n",
        "\n",
        "To evaluate the quality of the model as a single number we will use the `AUC` metric, which is an elegant way to capture the prediction power of the model for many rounding thresholds!\n",
        "\n",
        "Here is a 2min read about AUC: https://developers.google.com/machine-learning/crash-course/classification/roc-and-auc\n",
        "\n",
        "Here is a 5min read with slightly more examples: https://towardsdatascience.com/understanding-auc-roc-curve-68b2303cc9c5\n",
        "\n",
        "The Official `sklean` package also have a good explanation: https://scikit-learn.org/stable/modules/model_evaluation.html#roc-metrics"
      ]
    },
    {
      "cell_type": "code",
      "execution_count": null,
      "id": "2484acc6",
      "metadata": {
        "ExecuteTime": {
          "end_time": "2023-11-05T12:42:32.271448Z",
          "start_time": "2023-11-05T12:42:32.257512Z"
        },
        "id": "2484acc6"
      },
      "outputs": [],
      "source": [
        "# Use this function to plot the AUC curve and its value\n",
        "def plot_stats_and_get_auc(y_scores, y_true):\n",
        "    plt.figure(figsize=(11,8))\n",
        "    fpr, tpr, _ = roc_curve(y_true,  y_scores)\n",
        "    auc = roc_auc_score(y_true, y_scores)\n",
        "    plt.plot(fpr,tpr,label=\"auc=\"+str(auc))\n",
        "    plt.legend(loc=4)\n",
        "    plt.show()\n",
        "    return auc"
      ]
    },
    {
      "cell_type": "code",
      "execution_count": null,
      "id": "808a456a",
      "metadata": {
        "ExecuteTime": {
          "end_time": "2023-11-05T12:42:32.509124Z",
          "start_time": "2023-11-05T12:42:32.272442Z"
        },
        "id": "808a456a",
        "outputId": "c1e281d3-d25f-444f-8bf5-20bbf627561a",
        "colab": {
          "base_uri": "https://localhost:8080/"
        }
      },
      "outputs": [
        {
          "output_type": "stream",
          "name": "stdout",
          "text": [
            "Train curve\n"
          ]
        }
      ],
      "source": [
        "print('Train curve')\n",
        "# use the plot function with the training data. One way to do this is by `plot_stats_and_get_auc(preds[is_train_mask], labels[is_train_mask])`\n",
        "# CODE HERE"
      ]
    },
    {
      "cell_type": "code",
      "execution_count": null,
      "id": "55e5bfb6",
      "metadata": {
        "ExecuteTime": {
          "end_time": "2023-11-05T12:42:32.652024Z",
          "start_time": "2023-11-05T12:42:32.511062Z"
        },
        "id": "55e5bfb6",
        "outputId": "0e8ffa47-fec5-47c8-a187-7fa86d1e7cf1",
        "colab": {
          "base_uri": "https://localhost:8080/"
        }
      },
      "outputs": [
        {
          "output_type": "stream",
          "name": "stdout",
          "text": [
            "Test curve\n"
          ]
        }
      ],
      "source": [
        "print('Test curve')\n",
        "# CODE HERE"
      ]
    },
    {
      "cell_type": "markdown",
      "id": "75e47c2a",
      "metadata": {
        "id": "75e47c2a"
      },
      "source": [
        "If you've used a different solver than \"saga\", please try to change the solver to \"saga\" and repeat the experiment. What have you noticed?"
      ]
    },
    {
      "cell_type": "markdown",
      "id": "7591884a",
      "metadata": {
        "id": "7591884a"
      },
      "source": [
        "# Optimizing the hyper-parameters\n",
        "\n",
        "Which penalty is best in our case? `l1`? `l2`? `elasticnet`? with which regularization coefficient?\n",
        "\n",
        "This section you are asked to implement 2-folds cross validation and evaluate many combinations in order to find the best model's hyper-parameters.\n",
        "\n",
        "Instructions:\n",
        "* Split the dataset 50%-50% and alternate the roles between train and test\n",
        "* Use the AUC metric for model quality. Note that after run the two folds with parameters-set $\\omega$, the quality is the average of AUC from both folds.\n",
        "* Examine all possible combinations between the following:\n",
        "  - `penalty` of either `\"l1\"` or `\"l2\"`, `None` (for `None` there is no need to try different $C$ values)\n",
        "  - $C\\in\\{1.0, 0.5, 0.1, 0.01\\}$\n",
        "* Keep the following parameters fixed: `max_iter=400` and `n_jobs=-1`\n",
        "* For penalty `l1` use `solver='liblinear'`, otherwise use `'lbfgs'`\n",
        "\n",
        "Print the results from all the different folds, in decreasing quality (e.g. decreasing AUC). What can you deduce from that ordering about the data?"
      ]
    },
    {
      "cell_type": "code",
      "execution_count": null,
      "id": "207a66a5",
      "metadata": {
        "ExecuteTime": {
          "end_time": "2023-11-05T12:56:43.743615Z",
          "start_time": "2023-11-05T12:54:31.944320Z"
        },
        "id": "207a66a5"
      },
      "outputs": [],
      "source": [
        "# CODE HERE"
      ]
    },
    {
      "cell_type": "markdown",
      "id": "42ca3091",
      "metadata": {
        "id": "42ca3091"
      },
      "source": [
        "# Most importantly, the Feature Importance!\n",
        "\n",
        "Now that we have a winning setting. Use it to train a fresh model (using the winning parameters) over the entire dataset. This is not for generating predictions but rather, to *understand* the dataset in hand.\n",
        "\n",
        "Once you have the train logistic regression, pair the weights of the model (i.e. `model.coef_`) with their respective feature-names. Then print the 10 strongest features *in favor* of class $1$, and the top 10 features *in favor* of class $0$. Does it make sense to you? You can refer to the dataset's description for information about the colunms: https://www.kaggle.com/datasets/yakhyojon/customer-satisfaction-in-airline"
      ]
    },
    {
      "cell_type": "code",
      "execution_count": null,
      "id": "40913582",
      "metadata": {
        "ExecuteTime": {
          "end_time": "2023-11-05T13:06:35.624913Z",
          "start_time": "2023-11-05T13:06:33.698598Z"
        },
        "id": "40913582"
      },
      "outputs": [],
      "source": [
        "# Train a model using best parameters, over the entire dataset"
      ]
    },
    {
      "cell_type": "code",
      "execution_count": null,
      "id": "11737ccd",
      "metadata": {
        "ExecuteTime": {
          "end_time": "2023-11-05T13:19:24.799655Z",
          "start_time": "2023-11-05T13:19:24.779905Z"
        },
        "id": "11737ccd"
      },
      "outputs": [],
      "source": [
        "# pair the best_model.coef_[0] with the columns of the features dataframe. Take the 10 pairs with highest coefficient value\n",
        "# and the 10 pairs with lowest coefficient value"
      ]
    },
    {
      "cell_type": "code",
      "execution_count": null,
      "id": "a025fa13",
      "metadata": {
        "id": "a025fa13"
      },
      "outputs": [],
      "source": []
    }
  ],
  "metadata": {
    "kernelspec": {
      "display_name": "Python 3 (ipykernel)",
      "language": "python",
      "name": "python3"
    },
    "language_info": {
      "codemirror_mode": {
        "name": "ipython",
        "version": 3
      },
      "file_extension": ".py",
      "mimetype": "text/x-python",
      "name": "python",
      "nbconvert_exporter": "python",
      "pygments_lexer": "ipython3",
      "version": "3.9.7"
    },
    "toc": {
      "base_numbering": 1,
      "nav_menu": {},
      "number_sections": true,
      "sideBar": true,
      "skip_h1_title": false,
      "title_cell": "Table of Contents",
      "title_sidebar": "Contents",
      "toc_cell": false,
      "toc_position": {},
      "toc_section_display": true,
      "toc_window_display": false
    },
    "colab": {
      "provenance": [],
      "toc_visible": true,
      "include_colab_link": true
    }
  },
  "nbformat": 4,
  "nbformat_minor": 5
}